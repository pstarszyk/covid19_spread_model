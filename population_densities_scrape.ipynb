{
 "cells": [
  {
   "cell_type": "markdown",
   "metadata": {},
   "source": [
    "# Population Densities\n",
    "\n",
    "Here we scrape some population densities for the countries/ states in the train set\n",
    "\n",
    "### Sources\n",
    "\n",
    "World (countries with no states)\n",
    "https://en.wikipedia.org/wiki/List_of_countries_and_dependencies_by_population_density\n",
    "\n",
    "USA\n",
    "https://en.wikipedia.org/wiki/List_of_states_and_territories_of_the_United_States_by_population_density\n",
    "\n",
    "Australia\n",
    "https://en.wikipedia.org/wiki/States_and_territories_of_Australia\n",
    "\n",
    "Canada\n",
    "https://en.wikipedia.org/wiki/Population_of_Canada_by_province_and_territory\n",
    "\n",
    "China\n",
    "https://en.wikipedia.org/wiki/Provinces_of_China\n",
    "\n",
    "France\n",
    "https://en.wikipedia.org/wiki/Overseas_France\n"
   ]
  },
  {
   "cell_type": "code",
   "execution_count": 561,
   "metadata": {},
   "outputs": [],
   "source": [
    "import requests, pandas as pd, numpy as np\n",
    "from bs4 import BeautifulSoup"
   ]
  },
  {
   "cell_type": "code",
   "execution_count": 562,
   "metadata": {},
   "outputs": [
    {
     "data": {
      "text/html": [
       "<div>\n",
       "<style scoped>\n",
       "    .dataframe tbody tr th:only-of-type {\n",
       "        vertical-align: middle;\n",
       "    }\n",
       "\n",
       "    .dataframe tbody tr th {\n",
       "        vertical-align: top;\n",
       "    }\n",
       "\n",
       "    .dataframe thead th {\n",
       "        text-align: right;\n",
       "    }\n",
       "</style>\n",
       "<table border=\"1\" class=\"dataframe\">\n",
       "  <thead>\n",
       "    <tr style=\"text-align: right;\">\n",
       "      <th></th>\n",
       "      <th>Province_State</th>\n",
       "      <th>Country_Region</th>\n",
       "    </tr>\n",
       "  </thead>\n",
       "  <tbody>\n",
       "    <tr>\n",
       "      <td>0</td>\n",
       "      <td>NaN</td>\n",
       "      <td>Afghanistan</td>\n",
       "    </tr>\n",
       "    <tr>\n",
       "      <td>1</td>\n",
       "      <td>NaN</td>\n",
       "      <td>Albania</td>\n",
       "    </tr>\n",
       "    <tr>\n",
       "      <td>2</td>\n",
       "      <td>NaN</td>\n",
       "      <td>Algeria</td>\n",
       "    </tr>\n",
       "    <tr>\n",
       "      <td>3</td>\n",
       "      <td>NaN</td>\n",
       "      <td>Andorra</td>\n",
       "    </tr>\n",
       "    <tr>\n",
       "      <td>4</td>\n",
       "      <td>NaN</td>\n",
       "      <td>Angola</td>\n",
       "    </tr>\n",
       "  </tbody>\n",
       "</table>\n",
       "</div>"
      ],
      "text/plain": [
       "  Province_State Country_Region\n",
       "0            NaN    Afghanistan\n",
       "1            NaN        Albania\n",
       "2            NaN        Algeria\n",
       "3            NaN        Andorra\n",
       "4            NaN         Angola"
      ]
     },
     "execution_count": 562,
     "metadata": {},
     "output_type": "execute_result"
    }
   ],
   "source": [
    "train=pd.read_csv('../covid19/train.csv')\n",
    "country_state = train[['Province_State', 'Country_Region']].drop_duplicates().reset_index(drop = True)\n",
    "del train\n",
    "country_state.head()"
   ]
  },
  {
   "cell_type": "markdown",
   "metadata": {},
   "source": [
    "## Countries with states/ provinces"
   ]
  },
  {
   "cell_type": "code",
   "execution_count": 563,
   "metadata": {},
   "outputs": [
    {
     "data": {
      "text/plain": [
       "8           Australia\n",
       "36             Canada\n",
       "49              China\n",
       "91            Denmark\n",
       "108            France\n",
       "173       Netherlands\n",
       "224                US\n",
       "281    United Kingdom\n",
       "Name: Country_Region, dtype: object"
      ]
     },
     "execution_count": 563,
     "metadata": {},
     "output_type": "execute_result"
    }
   ],
   "source": [
    "country_state[~country_state.Province_State.isna()].Country_Region.drop_duplicates()"
   ]
  },
  {
   "cell_type": "markdown",
   "metadata": {},
   "source": [
    "## Scrape countries without states/ provinces first"
   ]
  },
  {
   "cell_type": "code",
   "execution_count": 564,
   "metadata": {},
   "outputs": [],
   "source": [
    "countries = list(country_state.Country_Region.drop_duplicates())"
   ]
  },
  {
   "cell_type": "code",
   "execution_count": 565,
   "metadata": {},
   "outputs": [],
   "source": [
    "url = 'https://en.wikipedia.org/wiki/List_of_countries_and_dependencies_by_population_density'\n",
    "html_text = requests.get(url).text\n",
    "soup = BeautifulSoup(html_text, 'html.parser').findAll('td')"
   ]
  },
  {
   "cell_type": "code",
   "execution_count": 566,
   "metadata": {},
   "outputs": [],
   "source": [
    "cols = ['country', 'state', 'density'] # people / km2\n",
    "df_WD = pd.DataFrame(columns = cols)"
   ]
  },
  {
   "cell_type": "code",
   "execution_count": 567,
   "metadata": {},
   "outputs": [],
   "source": [
    "ix = 0\n",
    "for ii in range(len(soup)):\n",
    "    try:\n",
    "        country = soup[ii].findAll('a')[0].text\n",
    "    except:\n",
    "        country = 'none'\n",
    "    \n",
    "    if country in countries:\n",
    "        df_WD.loc[ix, 'country'] = country\n",
    "        df_WD.loc[ix, 'density'] = soup[ii + 4].text[:-1]\n",
    "        ix += 1\n",
    "\n",
    "del soup\n",
    "df_WD = df_WD.reset_index(drop = True)\n"
   ]
  },
  {
   "cell_type": "code",
   "execution_count": 568,
   "metadata": {
    "scrolled": true
   },
   "outputs": [
    {
     "data": {
      "text/html": [
       "<div>\n",
       "<style scoped>\n",
       "    .dataframe tbody tr th:only-of-type {\n",
       "        vertical-align: middle;\n",
       "    }\n",
       "\n",
       "    .dataframe tbody tr th {\n",
       "        vertical-align: top;\n",
       "    }\n",
       "\n",
       "    .dataframe thead th {\n",
       "        text-align: right;\n",
       "    }\n",
       "</style>\n",
       "<table border=\"1\" class=\"dataframe\">\n",
       "  <thead>\n",
       "    <tr style=\"text-align: right;\">\n",
       "      <th></th>\n",
       "      <th>country</th>\n",
       "      <th>state</th>\n",
       "      <th>density</th>\n",
       "    </tr>\n",
       "  </thead>\n",
       "  <tbody>\n",
       "    <tr>\n",
       "      <td>0</td>\n",
       "      <td>Monaco</td>\n",
       "      <td>NaN</td>\n",
       "      <td>18960.0</td>\n",
       "    </tr>\n",
       "    <tr>\n",
       "      <td>1</td>\n",
       "      <td>Singapore</td>\n",
       "      <td>NaN</td>\n",
       "      <td>7894.0</td>\n",
       "    </tr>\n",
       "    <tr>\n",
       "      <td>2</td>\n",
       "      <td>Bahrain</td>\n",
       "      <td>NaN</td>\n",
       "      <td>1983.0</td>\n",
       "    </tr>\n",
       "    <tr>\n",
       "      <td>3</td>\n",
       "      <td>Malta</td>\n",
       "      <td>NaN</td>\n",
       "      <td>1510.0</td>\n",
       "    </tr>\n",
       "    <tr>\n",
       "      <td>4</td>\n",
       "      <td>Maldives</td>\n",
       "      <td>NaN</td>\n",
       "      <td>1258.0</td>\n",
       "    </tr>\n",
       "  </tbody>\n",
       "</table>\n",
       "</div>"
      ],
      "text/plain": [
       "     country state  density\n",
       "0     Monaco   NaN  18960.0\n",
       "1  Singapore   NaN   7894.0\n",
       "2    Bahrain   NaN   1983.0\n",
       "3      Malta   NaN   1510.0\n",
       "4   Maldives   NaN   1258.0"
      ]
     },
     "execution_count": 568,
     "metadata": {},
     "output_type": "execute_result"
    }
   ],
   "source": [
    "df_WD.density = df_WD.density.str.replace(\",\",\"\").astype(float)\n",
    "df_WD.head()"
   ]
  },
  {
   "cell_type": "markdown",
   "metadata": {},
   "source": [
    "## Scrape USA"
   ]
  },
  {
   "cell_type": "code",
   "execution_count": 569,
   "metadata": {},
   "outputs": [],
   "source": [
    "states = list(country_state[country_state.Country_Region=='US'].Province_State)"
   ]
  },
  {
   "cell_type": "code",
   "execution_count": 570,
   "metadata": {},
   "outputs": [],
   "source": [
    "url = 'https://en.wikipedia.org/wiki/List_of_states_and_territories_of_the_United_States_by_population_density'\n",
    "html_text = requests.get(url).text\n",
    "soup = BeautifulSoup(html_text, 'html.parser').findAll('td')"
   ]
  },
  {
   "cell_type": "code",
   "execution_count": 571,
   "metadata": {},
   "outputs": [],
   "source": [
    "cols = ['country', 'state', 'density'] # people / km2\n",
    "df_US = pd.DataFrame(columns = cols)"
   ]
  },
  {
   "cell_type": "code",
   "execution_count": 572,
   "metadata": {},
   "outputs": [],
   "source": [
    "ix = 0\n",
    "for ii in range(len(soup)):\n",
    "    try:\n",
    "        state = soup[ii].findAll('a')[0].text\n",
    "    except:\n",
    "        state = 'none'\n",
    "    \n",
    "    if state in states:\n",
    "        df_US.loc[ix, 'state'] = state\n",
    "        df_US.loc[ix, 'density'] = soup[ii + 4].text[:-1]\n",
    "        ix += 1\n",
    "\n",
    "del soup\n",
    "df_US.country = 'US'\n",
    "df_US = df_US.reset_index(drop = True)\n"
   ]
  },
  {
   "cell_type": "code",
   "execution_count": 573,
   "metadata": {},
   "outputs": [
    {
     "data": {
      "text/html": [
       "<div>\n",
       "<style scoped>\n",
       "    .dataframe tbody tr th:only-of-type {\n",
       "        vertical-align: middle;\n",
       "    }\n",
       "\n",
       "    .dataframe tbody tr th {\n",
       "        vertical-align: top;\n",
       "    }\n",
       "\n",
       "    .dataframe thead th {\n",
       "        text-align: right;\n",
       "    }\n",
       "</style>\n",
       "<table border=\"1\" class=\"dataframe\">\n",
       "  <thead>\n",
       "    <tr style=\"text-align: right;\">\n",
       "      <th></th>\n",
       "      <th>country</th>\n",
       "      <th>state</th>\n",
       "      <th>density</th>\n",
       "    </tr>\n",
       "  </thead>\n",
       "  <tbody>\n",
       "    <tr>\n",
       "      <td>0</td>\n",
       "      <td>US</td>\n",
       "      <td>District of Columbia</td>\n",
       "      <td>4251.0</td>\n",
       "    </tr>\n",
       "    <tr>\n",
       "      <td>1</td>\n",
       "      <td>US</td>\n",
       "      <td>New Jersey</td>\n",
       "      <td>470.0</td>\n",
       "    </tr>\n",
       "    <tr>\n",
       "      <td>2</td>\n",
       "      <td>US</td>\n",
       "      <td>Puerto Rico</td>\n",
       "      <td>404.0</td>\n",
       "    </tr>\n",
       "    <tr>\n",
       "      <td>3</td>\n",
       "      <td>US</td>\n",
       "      <td>Rhode Island</td>\n",
       "      <td>394.0</td>\n",
       "    </tr>\n",
       "    <tr>\n",
       "      <td>4</td>\n",
       "      <td>US</td>\n",
       "      <td>Massachusetts</td>\n",
       "      <td>336.0</td>\n",
       "    </tr>\n",
       "  </tbody>\n",
       "</table>\n",
       "</div>"
      ],
      "text/plain": [
       "  country                 state  density\n",
       "0      US  District of Columbia   4251.0\n",
       "1      US            New Jersey    470.0\n",
       "2      US           Puerto Rico    404.0\n",
       "3      US          Rhode Island    394.0\n",
       "4      US         Massachusetts    336.0"
      ]
     },
     "execution_count": 573,
     "metadata": {},
     "output_type": "execute_result"
    }
   ],
   "source": [
    "df_US = df_US.iloc[0:53]\n",
    "df_US.density = df_US.density.astype(float)\n",
    "df_US.head()"
   ]
  },
  {
   "cell_type": "markdown",
   "metadata": {},
   "source": [
    "## Scrape Australia"
   ]
  },
  {
   "cell_type": "code",
   "execution_count": 574,
   "metadata": {},
   "outputs": [],
   "source": [
    "states = list(country_state[country_state.Country_Region=='Australia'].Province_State)"
   ]
  },
  {
   "cell_type": "code",
   "execution_count": 575,
   "metadata": {},
   "outputs": [],
   "source": [
    "url = 'https://en.wikipedia.org/wiki/States_and_territories_of_Australia'\n",
    "html_text = requests.get(url).text\n",
    "soup = BeautifulSoup(html_text, 'html.parser').findAll('td')"
   ]
  },
  {
   "cell_type": "code",
   "execution_count": 576,
   "metadata": {},
   "outputs": [],
   "source": [
    "cols = ['country', 'state', 'population', 'area']\n",
    "df_AU = pd.DataFrame(columns = cols)"
   ]
  },
  {
   "cell_type": "code",
   "execution_count": 577,
   "metadata": {},
   "outputs": [],
   "source": [
    "ix = 0\n",
    "for ii in range(len(soup)):\n",
    "    try:\n",
    "        state = soup[ii].text\n",
    "    except:\n",
    "        state = 'none'\n",
    "    \n",
    "    if state in states:\n",
    "        shift = (state in ['Australian Capital Territory', 'Northern Territory'])\n",
    "        df_AU.loc[ix, 'state'] = state\n",
    "        df_AU.loc[ix, 'population'] = soup[ii + 4 + shift].text\n",
    "        df_AU.loc[ix, 'area'] = soup[ii + 5 + shift].text[:-1]\n",
    "        ix += 1\n",
    "\n",
    "del soup\n",
    "df_AU.country = 'Australia'\n",
    "df_AU = df_AU.reset_index(drop = True)"
   ]
  },
  {
   "cell_type": "code",
   "execution_count": 578,
   "metadata": {},
   "outputs": [],
   "source": [
    "df_AU.population = df_AU.population.str.replace(\",\",\"\").astype(float)\n",
    "df_AU.area = df_AU.area.str.replace(\",\",\"\").astype(float)\n",
    "df_AU['density'] = df_AU.population / df_AU.area\n",
    "df_AU = df_AU.drop(columns = ['population', 'area'])"
   ]
  },
  {
   "cell_type": "code",
   "execution_count": 579,
   "metadata": {},
   "outputs": [
    {
     "data": {
      "text/html": [
       "<div>\n",
       "<style scoped>\n",
       "    .dataframe tbody tr th:only-of-type {\n",
       "        vertical-align: middle;\n",
       "    }\n",
       "\n",
       "    .dataframe tbody tr th {\n",
       "        vertical-align: top;\n",
       "    }\n",
       "\n",
       "    .dataframe thead th {\n",
       "        text-align: right;\n",
       "    }\n",
       "</style>\n",
       "<table border=\"1\" class=\"dataframe\">\n",
       "  <thead>\n",
       "    <tr style=\"text-align: right;\">\n",
       "      <th></th>\n",
       "      <th>country</th>\n",
       "      <th>state</th>\n",
       "      <th>density</th>\n",
       "    </tr>\n",
       "  </thead>\n",
       "  <tbody>\n",
       "    <tr>\n",
       "      <td>0</td>\n",
       "      <td>Australia</td>\n",
       "      <td>New South Wales</td>\n",
       "      <td>9.987661</td>\n",
       "    </tr>\n",
       "    <tr>\n",
       "      <td>1</td>\n",
       "      <td>Australia</td>\n",
       "      <td>Queensland</td>\n",
       "      <td>2.751526</td>\n",
       "    </tr>\n",
       "    <tr>\n",
       "      <td>2</td>\n",
       "      <td>Australia</td>\n",
       "      <td>South Australia</td>\n",
       "      <td>1.677300</td>\n",
       "    </tr>\n",
       "    <tr>\n",
       "      <td>3</td>\n",
       "      <td>Australia</td>\n",
       "      <td>Tasmania</td>\n",
       "      <td>5.886875</td>\n",
       "    </tr>\n",
       "    <tr>\n",
       "      <td>4</td>\n",
       "      <td>Australia</td>\n",
       "      <td>Victoria</td>\n",
       "      <td>27.749252</td>\n",
       "    </tr>\n",
       "  </tbody>\n",
       "</table>\n",
       "</div>"
      ],
      "text/plain": [
       "     country            state    density\n",
       "0  Australia  New South Wales   9.987661\n",
       "1  Australia       Queensland   2.751526\n",
       "2  Australia  South Australia   1.677300\n",
       "3  Australia         Tasmania   5.886875\n",
       "4  Australia         Victoria  27.749252"
      ]
     },
     "execution_count": 579,
     "metadata": {},
     "output_type": "execute_result"
    }
   ],
   "source": [
    "df_AU.head()"
   ]
  },
  {
   "cell_type": "markdown",
   "metadata": {},
   "source": [
    "## Scrape Canada"
   ]
  },
  {
   "cell_type": "code",
   "execution_count": 580,
   "metadata": {},
   "outputs": [],
   "source": [
    "states = list(country_state[country_state.Country_Region=='Canada'].Province_State)"
   ]
  },
  {
   "cell_type": "code",
   "execution_count": 581,
   "metadata": {},
   "outputs": [],
   "source": [
    "url = 'https://en.wikipedia.org/wiki/Population_of_Canada_by_province_and_territory'\n",
    "html_text = requests.get(url).text\n",
    "soup = BeautifulSoup(html_text, 'html.parser').findAll('td')"
   ]
  },
  {
   "cell_type": "code",
   "execution_count": 582,
   "metadata": {},
   "outputs": [],
   "source": [
    "cols = ['country', 'state', 'density']\n",
    "df_CA = pd.DataFrame(columns = cols)"
   ]
  },
  {
   "cell_type": "code",
   "execution_count": 583,
   "metadata": {},
   "outputs": [],
   "source": [
    "ix = 0\n",
    "for ii in range(len(soup)):\n",
    "    try:\n",
    "        state = soup[ii].findAll('a')[0].text\n",
    "    except:\n",
    "        state = 'none'\n",
    "    \n",
    "    if state in states:\n",
    "        df_CA.loc[ix, 'state'] = state\n",
    "        df_CA.loc[ix, 'density'] = soup[ii + 5].text[:-1]\n",
    "        ix += 1\n",
    "\n",
    "del soup\n",
    "df_CA.country = 'Canada'\n",
    "df_CA = df_CA.reset_index(drop = True)"
   ]
  },
  {
   "cell_type": "code",
   "execution_count": 584,
   "metadata": {},
   "outputs": [
    {
     "data": {
      "text/html": [
       "<div>\n",
       "<style scoped>\n",
       "    .dataframe tbody tr th:only-of-type {\n",
       "        vertical-align: middle;\n",
       "    }\n",
       "\n",
       "    .dataframe tbody tr th {\n",
       "        vertical-align: top;\n",
       "    }\n",
       "\n",
       "    .dataframe thead th {\n",
       "        text-align: right;\n",
       "    }\n",
       "</style>\n",
       "<table border=\"1\" class=\"dataframe\">\n",
       "  <thead>\n",
       "    <tr style=\"text-align: right;\">\n",
       "      <th></th>\n",
       "      <th>country</th>\n",
       "      <th>state</th>\n",
       "      <th>density</th>\n",
       "    </tr>\n",
       "  </thead>\n",
       "  <tbody>\n",
       "    <tr>\n",
       "      <td>0</td>\n",
       "      <td>Canada</td>\n",
       "      <td>Ontario</td>\n",
       "      <td>14.8</td>\n",
       "    </tr>\n",
       "    <tr>\n",
       "      <td>1</td>\n",
       "      <td>Canada</td>\n",
       "      <td>Quebec</td>\n",
       "      <td>6.0</td>\n",
       "    </tr>\n",
       "    <tr>\n",
       "      <td>2</td>\n",
       "      <td>Canada</td>\n",
       "      <td>British Columbia</td>\n",
       "      <td>5.0</td>\n",
       "    </tr>\n",
       "    <tr>\n",
       "      <td>3</td>\n",
       "      <td>Canada</td>\n",
       "      <td>Alberta</td>\n",
       "      <td>6.4</td>\n",
       "    </tr>\n",
       "    <tr>\n",
       "      <td>4</td>\n",
       "      <td>Canada</td>\n",
       "      <td>Manitoba</td>\n",
       "      <td>2.3</td>\n",
       "    </tr>\n",
       "  </tbody>\n",
       "</table>\n",
       "</div>"
      ],
      "text/plain": [
       "  country             state  density\n",
       "0  Canada           Ontario     14.8\n",
       "1  Canada            Quebec      6.0\n",
       "2  Canada  British Columbia      5.0\n",
       "3  Canada           Alberta      6.4\n",
       "4  Canada          Manitoba      2.3"
      ]
     },
     "execution_count": 584,
     "metadata": {},
     "output_type": "execute_result"
    }
   ],
   "source": [
    "df_CA = df_CA.iloc[0:10]\n",
    "df_CA.density = df_CA.density.str.replace(\",\",\"\").astype(float)\n",
    "df_CA.head()"
   ]
  },
  {
   "cell_type": "markdown",
   "metadata": {},
   "source": [
    "## Scrape China"
   ]
  },
  {
   "cell_type": "code",
   "execution_count": 585,
   "metadata": {},
   "outputs": [],
   "source": [
    "states = list(country_state[country_state.Country_Region=='China'].Province_State)"
   ]
  },
  {
   "cell_type": "code",
   "execution_count": 586,
   "metadata": {},
   "outputs": [],
   "source": [
    "url = 'https://en.wikipedia.org/wiki/Provinces_of_China'\n",
    "html_text = requests.get(url).text\n",
    "soup = BeautifulSoup(html_text, 'html.parser').findAll('td')"
   ]
  },
  {
   "cell_type": "code",
   "execution_count": 587,
   "metadata": {},
   "outputs": [],
   "source": [
    "cols = ['country', 'state', 'density']\n",
    "df_CH = pd.DataFrame(columns = cols)"
   ]
  },
  {
   "cell_type": "code",
   "execution_count": 588,
   "metadata": {},
   "outputs": [],
   "source": [
    "suffix = ['Province', 'Municipality', 'Autonomous Region', 'Administrative Region']\n",
    "\n",
    "ix = 0\n",
    "\n",
    "for ii in range(len(soup)):\n",
    "    try:\n",
    "        state = soup[ii].findAll('a')[0].text\n",
    "        if any(x in state for x in suffix):\n",
    "            if 'Hong Kong' in state:\n",
    "                state = 'Hong Kong'\n",
    "            elif 'Inner Mongolia' in state:\n",
    "                state = 'Inner Mongolia'\n",
    "            else:\n",
    "                state = state[0:state.index(' ')]\n",
    "    except:\n",
    "        state = 'none'\n",
    "    \n",
    "    if state in states:\n",
    "        df_CH.loc[ix, 'state'] = state\n",
    "        df_CH.loc[ix, 'density'] = soup[ii + 4].text[:-1]\n",
    "        ix += 1\n",
    "\n",
    "del soup\n",
    "df_CH.country = 'China'\n",
    "df_CH = df_CH.reset_index(drop = True)"
   ]
  },
  {
   "cell_type": "code",
   "execution_count": 589,
   "metadata": {},
   "outputs": [
    {
     "data": {
      "text/html": [
       "<div>\n",
       "<style scoped>\n",
       "    .dataframe tbody tr th:only-of-type {\n",
       "        vertical-align: middle;\n",
       "    }\n",
       "\n",
       "    .dataframe tbody tr th {\n",
       "        vertical-align: top;\n",
       "    }\n",
       "\n",
       "    .dataframe thead th {\n",
       "        text-align: right;\n",
       "    }\n",
       "</style>\n",
       "<table border=\"1\" class=\"dataframe\">\n",
       "  <thead>\n",
       "    <tr style=\"text-align: right;\">\n",
       "      <th></th>\n",
       "      <th>country</th>\n",
       "      <th>state</th>\n",
       "      <th>density</th>\n",
       "    </tr>\n",
       "  </thead>\n",
       "  <tbody>\n",
       "    <tr>\n",
       "      <td>2</td>\n",
       "      <td>China</td>\n",
       "      <td>Anhui</td>\n",
       "      <td>425.91</td>\n",
       "    </tr>\n",
       "    <tr>\n",
       "      <td>3</td>\n",
       "      <td>China</td>\n",
       "      <td>Beijing</td>\n",
       "      <td>1167.40</td>\n",
       "    </tr>\n",
       "    <tr>\n",
       "      <td>4</td>\n",
       "      <td>China</td>\n",
       "      <td>Chongqing</td>\n",
       "      <td>350.50</td>\n",
       "    </tr>\n",
       "    <tr>\n",
       "      <td>5</td>\n",
       "      <td>China</td>\n",
       "      <td>Fujian</td>\n",
       "      <td>304.15</td>\n",
       "    </tr>\n",
       "    <tr>\n",
       "      <td>6</td>\n",
       "      <td>China</td>\n",
       "      <td>Guangdong</td>\n",
       "      <td>579.46</td>\n",
       "    </tr>\n",
       "  </tbody>\n",
       "</table>\n",
       "</div>"
      ],
      "text/plain": [
       "  country      state  density\n",
       "2   China      Anhui   425.91\n",
       "3   China    Beijing  1167.40\n",
       "4   China  Chongqing   350.50\n",
       "5   China     Fujian   304.15\n",
       "6   China  Guangdong   579.46"
      ]
     },
     "execution_count": 589,
     "metadata": {},
     "output_type": "execute_result"
    }
   ],
   "source": [
    "df_CH = df_CH.iloc[2:35]\n",
    "df_CH.density = df_CH.density.str.replace(\",\",\"\").astype(float)\n",
    "df_CH.head()"
   ]
  },
  {
   "cell_type": "markdown",
   "metadata": {},
   "source": [
    "## Scrape France"
   ]
  },
  {
   "cell_type": "code",
   "execution_count": 590,
   "metadata": {},
   "outputs": [],
   "source": [
    "states = list(country_state[country_state.Country_Region=='France'].Province_State)"
   ]
  },
  {
   "cell_type": "code",
   "execution_count": 591,
   "metadata": {},
   "outputs": [],
   "source": [
    "url = 'https://en.wikipedia.org/wiki/Overseas_France'\n",
    "html_text = requests.get(url).text\n",
    "soup = BeautifulSoup(html_text, 'html.parser').findAll('td')"
   ]
  },
  {
   "cell_type": "code",
   "execution_count": 592,
   "metadata": {},
   "outputs": [],
   "source": [
    "cols = ['country', 'state', 'density']\n",
    "df_FR = pd.DataFrame(columns = cols)"
   ]
  },
  {
   "cell_type": "code",
   "execution_count": 593,
   "metadata": {},
   "outputs": [],
   "source": [
    "ix = 0\n",
    "for ii in range(len(soup)):\n",
    "    try:\n",
    "        state = soup[ii].findAll('a')[0].text\n",
    "    except:\n",
    "        state = 'none'\n",
    "    \n",
    "    if state in states:\n",
    "        df_FR.loc[ix, 'state'] = state\n",
    "        df_FR.loc[ix, 'density'] = soup[ii + 4].text[:-1]\n",
    "        ix += 1\n",
    "\n",
    "del soup\n",
    "df_FR.country = 'France'\n",
    "df_FR = df_FR.reset_index(drop = True)"
   ]
  },
  {
   "cell_type": "code",
   "execution_count": 594,
   "metadata": {},
   "outputs": [
    {
     "data": {
      "text/html": [
       "<div>\n",
       "<style scoped>\n",
       "    .dataframe tbody tr th:only-of-type {\n",
       "        vertical-align: middle;\n",
       "    }\n",
       "\n",
       "    .dataframe tbody tr th {\n",
       "        vertical-align: top;\n",
       "    }\n",
       "\n",
       "    .dataframe thead th {\n",
       "        text-align: right;\n",
       "    }\n",
       "</style>\n",
       "<table border=\"1\" class=\"dataframe\">\n",
       "  <thead>\n",
       "    <tr style=\"text-align: right;\">\n",
       "      <th></th>\n",
       "      <th>country</th>\n",
       "      <th>state</th>\n",
       "      <th>density</th>\n",
       "    </tr>\n",
       "  </thead>\n",
       "  <tbody>\n",
       "    <tr>\n",
       "      <td>0</td>\n",
       "      <td>France</td>\n",
       "      <td>French Guiana</td>\n",
       "      <td>3.0</td>\n",
       "    </tr>\n",
       "    <tr>\n",
       "      <td>1</td>\n",
       "      <td>France</td>\n",
       "      <td>French Polynesia</td>\n",
       "      <td>78.0</td>\n",
       "    </tr>\n",
       "    <tr>\n",
       "      <td>2</td>\n",
       "      <td>France</td>\n",
       "      <td>Guadeloupe</td>\n",
       "      <td>240.0</td>\n",
       "    </tr>\n",
       "    <tr>\n",
       "      <td>3</td>\n",
       "      <td>France</td>\n",
       "      <td>Martinique</td>\n",
       "      <td>329.0</td>\n",
       "    </tr>\n",
       "    <tr>\n",
       "      <td>4</td>\n",
       "      <td>France</td>\n",
       "      <td>Mayotte</td>\n",
       "      <td>693.0</td>\n",
       "    </tr>\n",
       "    <tr>\n",
       "      <td>5</td>\n",
       "      <td>France</td>\n",
       "      <td>New Caledonia</td>\n",
       "      <td>15.0</td>\n",
       "    </tr>\n",
       "  </tbody>\n",
       "</table>\n",
       "</div>"
      ],
      "text/plain": [
       "  country             state  density\n",
       "0  France     French Guiana      3.0\n",
       "1  France  French Polynesia     78.0\n",
       "2  France        Guadeloupe    240.0\n",
       "3  France        Martinique    329.0\n",
       "4  France           Mayotte    693.0\n",
       "5  France     New Caledonia     15.0"
      ]
     },
     "execution_count": 594,
     "metadata": {},
     "output_type": "execute_result"
    }
   ],
   "source": [
    "df_FR = df_FR.iloc[0:6]\n",
    "df_FR.density = df_FR.density.str.replace(\",\",\"\").astype(float)\n",
    "df_FR"
   ]
  },
  {
   "cell_type": "markdown",
   "metadata": {},
   "source": [
    "## Combine"
   ]
  },
  {
   "cell_type": "code",
   "execution_count": 595,
   "metadata": {},
   "outputs": [],
   "source": [
    "df = df_WD.append(df_US).append(df_AU).append(df_CA).append(df_CH).append(df_FR)"
   ]
  },
  {
   "cell_type": "code",
   "execution_count": 596,
   "metadata": {},
   "outputs": [
    {
     "data": {
      "text/html": [
       "<div>\n",
       "<style scoped>\n",
       "    .dataframe tbody tr th:only-of-type {\n",
       "        vertical-align: middle;\n",
       "    }\n",
       "\n",
       "    .dataframe tbody tr th {\n",
       "        vertical-align: top;\n",
       "    }\n",
       "\n",
       "    .dataframe thead th {\n",
       "        text-align: right;\n",
       "    }\n",
       "</style>\n",
       "<table border=\"1\" class=\"dataframe\">\n",
       "  <thead>\n",
       "    <tr style=\"text-align: right;\">\n",
       "      <th></th>\n",
       "      <th>country</th>\n",
       "      <th>state</th>\n",
       "      <th>density</th>\n",
       "    </tr>\n",
       "  </thead>\n",
       "  <tbody>\n",
       "    <tr>\n",
       "      <td>0</td>\n",
       "      <td>Monaco</td>\n",
       "      <td>NaN</td>\n",
       "      <td>18960.0</td>\n",
       "    </tr>\n",
       "    <tr>\n",
       "      <td>1</td>\n",
       "      <td>Singapore</td>\n",
       "      <td>NaN</td>\n",
       "      <td>7894.0</td>\n",
       "    </tr>\n",
       "    <tr>\n",
       "      <td>2</td>\n",
       "      <td>Bahrain</td>\n",
       "      <td>NaN</td>\n",
       "      <td>1983.0</td>\n",
       "    </tr>\n",
       "    <tr>\n",
       "      <td>3</td>\n",
       "      <td>Malta</td>\n",
       "      <td>NaN</td>\n",
       "      <td>1510.0</td>\n",
       "    </tr>\n",
       "    <tr>\n",
       "      <td>4</td>\n",
       "      <td>Maldives</td>\n",
       "      <td>NaN</td>\n",
       "      <td>1258.0</td>\n",
       "    </tr>\n",
       "    <tr>\n",
       "      <td>...</td>\n",
       "      <td>...</td>\n",
       "      <td>...</td>\n",
       "      <td>...</td>\n",
       "    </tr>\n",
       "    <tr>\n",
       "      <td>355</td>\n",
       "      <td>France</td>\n",
       "      <td>French Polynesia</td>\n",
       "      <td>78.0</td>\n",
       "    </tr>\n",
       "    <tr>\n",
       "      <td>356</td>\n",
       "      <td>France</td>\n",
       "      <td>Guadeloupe</td>\n",
       "      <td>240.0</td>\n",
       "    </tr>\n",
       "    <tr>\n",
       "      <td>357</td>\n",
       "      <td>France</td>\n",
       "      <td>Martinique</td>\n",
       "      <td>329.0</td>\n",
       "    </tr>\n",
       "    <tr>\n",
       "      <td>358</td>\n",
       "      <td>France</td>\n",
       "      <td>Mayotte</td>\n",
       "      <td>693.0</td>\n",
       "    </tr>\n",
       "    <tr>\n",
       "      <td>359</td>\n",
       "      <td>France</td>\n",
       "      <td>New Caledonia</td>\n",
       "      <td>15.0</td>\n",
       "    </tr>\n",
       "  </tbody>\n",
       "</table>\n",
       "<p>360 rows × 3 columns</p>\n",
       "</div>"
      ],
      "text/plain": [
       "       country             state  density\n",
       "0       Monaco               NaN  18960.0\n",
       "1    Singapore               NaN   7894.0\n",
       "2      Bahrain               NaN   1983.0\n",
       "3        Malta               NaN   1510.0\n",
       "4     Maldives               NaN   1258.0\n",
       "..         ...               ...      ...\n",
       "355     France  French Polynesia     78.0\n",
       "356     France        Guadeloupe    240.0\n",
       "357     France        Martinique    329.0\n",
       "358     France           Mayotte    693.0\n",
       "359     France     New Caledonia     15.0\n",
       "\n",
       "[360 rows x 3 columns]"
      ]
     },
     "execution_count": 596,
     "metadata": {},
     "output_type": "execute_result"
    }
   ],
   "source": [
    "df = df.reset_index(drop = True)\n",
    "df"
   ]
  },
  {
   "cell_type": "code",
   "execution_count": 597,
   "metadata": {},
   "outputs": [],
   "source": [
    "df.to_csv('population_densities.csv')"
   ]
  },
  {
   "cell_type": "code",
   "execution_count": null,
   "metadata": {},
   "outputs": [],
   "source": []
  },
  {
   "cell_type": "code",
   "execution_count": null,
   "metadata": {},
   "outputs": [],
   "source": []
  },
  {
   "cell_type": "code",
   "execution_count": null,
   "metadata": {},
   "outputs": [],
   "source": []
  }
 ],
 "metadata": {
  "kernelspec": {
   "display_name": "Python 3",
   "language": "python",
   "name": "python3"
  },
  "language_info": {
   "codemirror_mode": {
    "name": "ipython",
    "version": 3
   },
   "file_extension": ".py",
   "mimetype": "text/x-python",
   "name": "python",
   "nbconvert_exporter": "python",
   "pygments_lexer": "ipython3",
   "version": "3.7.4"
  }
 },
 "nbformat": 4,
 "nbformat_minor": 2
}
